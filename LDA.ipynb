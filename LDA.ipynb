{
 "cells": [
  {
   "cell_type": "code",
   "execution_count": 1,
   "metadata": {},
   "outputs": [],
   "source": [
    "# importing all the required libraries\n",
    "import pandas as pd\n",
    "import numpy as np\n",
    "import matplotlib.pyplot as plt\n",
    "#import matplotlib.mlab as mlab\n",
    "from scipy.stats import norm\n"
   ]
  },
  {
   "cell_type": "code",
   "execution_count": 2,
   "metadata": {},
   "outputs": [],
   "source": [
    "def plotOriginalData(X, y):\n",
    "    V1_ = np.where(y==1)[0]\n",
    "    V2_ = np.where(y==0)[0]\n",
    "    \n",
    "    fig = plt.figure()\n",
    "    ax = fig.add_subplot(1, 1, 1)\n",
    "    ax.set_title('Scatter Plot of Raw Data')\n",
    "    ax.scatter(X[V1_][:,0], X[V1_][:,1], color='blue', label='class 1', marker='o')\n",
    "    ax.scatter(X[V2_][:,0], X[V2_][:,1], color='red', label='class 0', marker='+')\n",
    "    ax.set_aspect('equal', 'box')\n",
    "    ax.set_xlabel('V1')\n",
    "    ax.set_ylabel('V2')\n",
    "    ax.legend()\n",
    "    fig.set_size_inches(10, 6)\n",
    "   # plt.savefig('Scatter Plot of Raw Data')\n",
    "    fig.show()\n"
   ]
  },
  {
   "cell_type": "code",
   "execution_count": 3,
   "metadata": {},
   "outputs": [],
   "source": [
    "def plotNormLDA(projection,y,Threshold):\n",
    "    V1_ = np.where(y==1)[0]\n",
    "    V2_ = np.where(y==0)[0]\n",
    "    projection1 = []\n",
    "    projection2 = []\n",
    "   \n",
    "    for i in V1_:\n",
    "        projection1.append(projection[i][0])\n",
    "      \n",
    "    for i in V2_:\n",
    "        projection2.append(projection[i][0])\n",
    "        \n",
    "    \n",
    "    fig = plt.figure()\n",
    "    ax = fig.add_subplot(1, 1, 1)\n",
    "    ax.set_title('Normal Distributions LDA')\n",
    "    ax.set_xlabel('projection')\n",
    "    ax.set_ylabel('')\n",
    "   \n",
    "    m1 ,std1 = norm.fit(projection1) \n",
    "    m2 ,std2=norm.fit(projection2)\n",
    "    #\n",
    "    #print(std1,std2)\n",
    "    Z1 = np.linspace(m1-5*std1,m1+5*std1,1000)\n",
    "    Z2 = np.linspace(m2-5*std2,m2+5*std2,1000)\n",
    "  \n",
    "    ax.plot(Z1,norm.pdf(Z1,m1,std1),linestyle='None', marker='o', markersize=2, color='blue', label='class 1')\n",
    "    ax.plot(Z2,norm.pdf(Z2,m2,std2),linestyle='None', marker='o', markersize=2, color='red', label='class 0')\n",
    "   \n",
    "    plt.axvline(x=Threshold,markersize=7,color='green' ,label='line at x = {}'.format(Threshold))  \n",
    "    ax.legend()\n",
    "    fig.set_size_inches(10, 6)\n",
    "    fig.show()\n",
    "    \n",
    "        \n",
    "    \n",
    "        \n"
   ]
  },
  {
   "cell_type": "code",
   "execution_count": 4,
   "metadata": {},
   "outputs": [],
   "source": [
    "def plotLDAProjection(projection,y):\n",
    "    V1_ = np.where(y==1)[0]\n",
    "    V2_ = np.where(y==0)[0]\n",
    "    projection1 = []\n",
    "    projection2 = []\n",
    "    #print(V1_)\n",
    "   # print(V2_)\n",
    "    for i in V1_:\n",
    "        projection1.append(projection[i][0])\n",
    "    for i in V2_:\n",
    "        projection2.append(projection[i][0])\n",
    "    \n",
    "    fig = plt.figure()\n",
    "    ax = fig.add_subplot(1, 1, 1)\n",
    "    ax.set_title('Projection of raw data onto W')\n",
    "    ax.set_xlabel('projection')\n",
    "    ax.set_ylabel('')\n",
    "    \n",
    "    ax.plot(projection1[:V1_.shape[0]],np.zeros(V1_.shape[0]), linestyle='None', marker='o', markersize=7, color='blue', label='class 1')\n",
    "    ax.plot(projection2[:V2_.shape[0]], np.zeros(V2_.shape[0]), linestyle='None', marker='o', markersize=7, color='red', label='class 0')\n",
    "    ax.legend()\n",
    "    fig.set_size_inches(10, 6)\n",
    "   # plt.savefig('Projection of raw data onto W')\n",
    "    fig.show()"
   ]
  },
  {
   "cell_type": "code",
   "execution_count": 5,
   "metadata": {},
   "outputs": [],
   "source": [
    "def metrics(Threshold,projection,y):\n",
    "    V1_ = np.where(y==1)[0]\n",
    "    V2_ = np.where(y==0)[0]\n",
    "    projection1 = []\n",
    "    projection2 = []\n",
    "    for i in V1_:\n",
    "        projection1.append(projection[i][0])\n",
    "        pass\n",
    "    for i in V2_:\n",
    "        projection2.append(projection[i][0])\n",
    "    c_1 = 0\n",
    "    c_2 = 0\n",
    "    tp = 0\n",
    "    tn = 0\n",
    "    fp = 0\n",
    "    fn = 0\n",
    "    for i in projection1:\n",
    "            if(i>Threshold):\n",
    "                c_1 = c_1 + 1\n",
    "    for i in projection2:\n",
    "        if(i>Threshold):\n",
    "            c_2 = c_2 + 1\n",
    "    if(c_1>c_2):\n",
    "        for i in projection1:\n",
    "            if(i>=Threshold):\n",
    "                tp = tp + 1\n",
    "            else:\n",
    "                fn = fn + 1\n",
    "            \n",
    "        for i in projection2:\n",
    "            if(i<=Threshold):\n",
    "                tn = tn + 1\n",
    "            else:\n",
    "                fp = fp+1\n",
    "    else:\n",
    "        for i in projection2:\n",
    "            if(i>=Threshold):\n",
    "                tp = tp + 1\n",
    "            else:\n",
    "                fn = fn + 1\n",
    "            \n",
    "        for i in projection1:\n",
    "            if(i<=Threshold):\n",
    "                tn = tn + 1\n",
    "            else:\n",
    "                fp = fp+1\n",
    "     \n",
    "    #print(tp,tn,fp,fn)\n",
    "    accuracy = (tp+tn)/(tp+tn+fp+fn)\n",
    "    print(\"Accuracy : \",accuracy)\n",
    "    precision = tp/(tp+fp)\n",
    "    recall = tp/(tp+fn)\n",
    "    #print(\"Precision : \",precision,\"\\nrecall :\",recall)\n",
    "    F1_score = 2*precision*recall/(precision+recall)\n",
    "    print(\"F1_score :\",F1_score)"
   ]
  },
  {
   "cell_type": "code",
   "execution_count": 6,
   "metadata": {},
   "outputs": [],
   "source": [
    "\n",
    "def solve(m1,m2,std1,std2):\n",
    "    a = 1/(2*std1**2) - 1/(2*std2**2)\n",
    "    b = m2/(std2**2) - m1/(std1**2)\n",
    "    c = m1**2 /(2*std1**2) - m2**2 / (2*std2**2) - np.log(std2/std1)\n",
    "    return np.roots([a,b,c])\n",
    "\n",
    "    "
   ]
  },
  {
   "cell_type": "code",
   "execution_count": 7,
   "metadata": {},
   "outputs": [],
   "source": [
    "def Compute_Threshold(projection,y):\n",
    "    V1_ = np.where(y==1)[0]\n",
    "    V2_ = np.where(y==0)[0]\n",
    "    projection1 = []\n",
    "    projection2 = []\n",
    "    for i in V1_:\n",
    "        projection1.append(projection[i][0])\n",
    "    for i in V2_:\n",
    "        projection2.append(projection[i][0])\n",
    "    m1 ,std1 = norm.fit(projection1) \n",
    "    m2 ,std2=norm.fit(projection2)\n",
    "    maxi= np.array(projection).max()\n",
    "    mini = np.array(projection).min()\n",
    "    #print(\"Maximum:\",maxi)\n",
    "    root = solve(m1,m2,std1,std2)\n",
    "    #print(root)\n",
    "    for i in range(len(root)):\n",
    "        if root[i] < maxi and root[i] > mini:\n",
    "           # print(root[i])\n",
    "            Threshold = root[i]\n",
    "            \n",
    "            return Threshold,projection1,projection2\n",
    "            \n",
    "    \n",
    "        \n",
    "    \n",
    "        "
   ]
  },
  {
   "cell_type": "code",
   "execution_count": 8,
   "metadata": {},
   "outputs": [],
   "source": [
    "# function to compute feature-wise mean\n",
    "def computeMean(x):\n",
    "    return np.mean(x, axis = 0)"
   ]
  },
  {
   "cell_type": "code",
   "execution_count": 9,
   "metadata": {},
   "outputs": [],
   "source": [
    "# function to compute feature-wise mean for each class\n",
    "def computeMeanVectors(X,y):\n",
    "    mean_vectors = []\n",
    "    for class_label in np.unique(y):\n",
    "        mean_vectors.append(computeMean(X[y == class_label]))\n",
    "    \n",
    "    return mean_vectors"
   ]
  },
  {
   "cell_type": "code",
   "execution_count": 10,
   "metadata": {},
   "outputs": [],
   "source": [
    "# function to compute Scatter-Within\n",
    "def calculateSWithin(X, y):\n",
    "    n_dim = X.shape[1]\n",
    "    S_Within = np.zeros([n_dim, n_dim])\n",
    "    mean_vectors = computeMeanVectors(X, y)\n",
    "    \n",
    "    for class_label in np.unique(y):\n",
    "        within_scatter = np.zeros([n_dim, n_dim])\n",
    "        \n",
    "        for sample in X[y == class_label]:\n",
    "            sample, vec = sample.reshape(n_dim, 1), mean_vectors[int(class_label)].reshape(n_dim, 1)\n",
    "            within_scatter += np.dot(sample - vec, (sample - vec).T)\n",
    "        S_Within += within_scatter\n",
    "    \n",
    "    return S_Within"
   ]
  },
  {
   "cell_type": "code",
   "execution_count": 11,
   "metadata": {},
   "outputs": [],
   "source": [
    "# function to compute Scatter-Between\n",
    "def calculateSBetween(X, y):\n",
    "    n_dim = X.shape[1]\n",
    "    S_Between = np.zeros([n_dim, n_dim])\n",
    "    mean_global = computeMean(X)\n",
    "    mean_vectors = computeMeanVectors(X, y)\n",
    "    \n",
    "    for class_label in np.unique(y):\n",
    "        N = X[y == class_label].shape[0]\n",
    "        mean_global, vec = mean_global.reshape(n_dim, 1), mean_vectors[int(class_label)].reshape(n_dim, 1)\n",
    "        S_Between += N * np.dot(vec - mean_global, (vec - mean_global).T)\n",
    "    \n",
    "    return S_Between\n",
    "    "
   ]
  },
  {
   "cell_type": "code",
   "execution_count": 12,
   "metadata": {},
   "outputs": [],
   "source": [
    "# function to perform Linear Discriminant Analysis (LDA)\n",
    "def do_LDA(X, y):\n",
    "    m, n = X.shape\n",
    "    \n",
    "    # computing Scatter_Between and Scatter_Within matrices using functions\n",
    "    S_Between = calculateSBetween(X, y)\n",
    "    S_Within = calculateSWithin(X, y)\n",
    "    \n",
    "    # computing eigenvalues and eigenvectors\n",
    "    eig_vals, eig_vecs = np.linalg.eig(np.dot(np.linalg.inv(S_Within), S_Between))\n",
    "    \n",
    "    # forming eigenvalue-eigenvector pairs\n",
    "    eig_pairs = [(np.abs(eig_vals[i]), eig_vecs[:,i]) for i in range(len(eig_vals))]\n",
    "\n",
    "    # sorting eigenvalue-eigenvector pairs in descending order\n",
    "    eig_pairs.sort(reverse=True, key=(lambda x: x[0]))\n",
    "    \n",
    "    #print(eig_pairs)\n",
    "    # choosing eigenvectors with the largest eigenvalue\n",
    "    W = eig_pairs[0][1].reshape(n,1)\n",
    "    #print(W)\n",
    "    # transforming the samples onto the new subspace\n",
    "    projection = np.matmul(X, W)\n",
    "    \n",
    "    #print('\\nThe variance of the projections onto the W axis: ', np.var(projection))\n",
    "    \n",
    "    projection = projection.tolist()\n",
    "    \n",
    "    return W, projection"
   ]
  },
  {
   "cell_type": "code",
   "execution_count": 15,
   "metadata": {},
   "outputs": [],
   "source": [
    "def main():\n",
    "    df = pd.read_csv(filepath_or_buffer='a1_d2.csv', header=None, sep=',')\n",
    "    #print(df.head())\n",
    "    col = df.shape[1]\n",
    "    df.dropna(how=\"all\", inplace=True)\n",
    "    #df.tail()\n",
    "    X = df.iloc[:,0:col-1]\n",
    "    Y = df.iloc[:,col-1:col]\n",
    "    X = X.apply( lambda rec:(rec - rec.mean())/rec.std(), axis =0)\n",
    "    data_in = df.values\n",
    "    \n",
    "    \n",
    "\n",
    "    X = np.array(X)\n",
    "    Y = np.array(Y)\n",
    "    \n",
    "    Y = Y.reshape(len(Y),)\n",
    "    \n",
    "    #plotting raw data\n",
    "    plotOriginalData(X, Y)\n",
    "            \n",
    "    W, projection = do_LDA(X, Y)\n",
    "    \n",
    "    #print('\\nW from LDA:', W_train)\n",
    "    \n",
    "    # plotting projection after LDA\n",
    "    plotLDAProjection(projection,Y)\n",
    "    \n",
    "    global Threshold, projection1, projection2\n",
    "    Threshold,projection1,projection2 = Compute_Threshold(projection,Y)\n",
    "    \n",
    "    plotNormLDA(projection,Y,Threshold)\n",
    "    \n",
    "    \n",
    "    #Y_data_test = Y_data_test.reshape(len(Y_data_test),)\n",
    "\n",
    "    metrics(Threshold,projection,Y)\n",
    "    "
   ]
  },
  {
   "cell_type": "code",
   "execution_count": 16,
   "metadata": {},
   "outputs": [
    {
     "name": "stderr",
     "output_type": "stream",
     "text": [
      "C:\\Users\\jaggu\\anaconda3\\lib\\site-packages\\ipykernel_launcher.py:16: UserWarning: Matplotlib is currently using module://ipykernel.pylab.backend_inline, which is a non-GUI backend, so cannot show the figure.\n",
      "  app.launch_new_instance()\n",
      "C:\\Users\\jaggu\\anaconda3\\lib\\site-packages\\ipykernel_launcher.py:24: UserWarning: Matplotlib is currently using module://ipykernel.pylab.backend_inline, which is a non-GUI backend, so cannot show the figure.\n",
      "C:\\Users\\jaggu\\anaconda3\\lib\\site-packages\\ipykernel_launcher.py:33: UserWarning: Matplotlib is currently using module://ipykernel.pylab.backend_inline, which is a non-GUI backend, so cannot show the figure.\n"
     ]
    },
    {
     "name": "stdout",
     "output_type": "stream",
     "text": [
      "Accuracy :  1.0\n",
      "F1_score : 1.0\n"
     ]
    },
    {
     "data": {
      "image/png": "[encoded data removed]",
      "text/plain": [
       "<Figure size 720x432 with 1 Axes>"
      ]
     },
     "metadata": {
      "needs_background": "light"
     },
     "output_type": "display_data"
    },
    {
     "data": {
      "image/png": "[encoded data removed]",
      "text/plain": [
       "<Figure size 720x432 with 1 Axes>"
      ]
     },
     "metadata": {
      "needs_background": "light"
     },
     "output_type": "display_data"
    },
    {
     "data": {
      "image/png": "[encoded data removed]",
      "text/plain": [
       "<Figure size 720x432 with 1 Axes>"
      ]
     },
     "metadata": {
      "needs_background": "light"
     },
     "output_type": "display_data"
    }
   ],
   "source": [
    "if __name__ == '__main__':\n",
    "    main()"
   ]
  },
  {
   "cell_type": "code",
   "execution_count": null,
   "metadata": {},
   "outputs": [],
   "source": []
  },
  {
   "cell_type": "code",
   "execution_count": null,
   "metadata": {},
   "outputs": [],
   "source": []
  },
  {
   "cell_type": "code",
   "execution_count": null,
   "metadata": {},
   "outputs": [],
   "source": []
  },
  {
   "cell_type": "code",
   "execution_count": null,
   "metadata": {},
   "outputs": [],
   "source": []
  }
 ],
 "metadata": {
  "kernelspec": {
   "display_name": "Python 3",
   "language": "python",
   "name": "python3"
  },
  "language_info": {
   "codemirror_mode": {
    "name": "ipython",
    "version": 3
   },
   "file_extension": ".py",
   "mimetype": "text/x-python",
   "name": "python",
   "nbconvert_exporter": "python",
   "pygments_lexer": "ipython3",
   "version": "3.7.6"
  }
 },
 "nbformat": 4,
 "nbformat_minor": 4
}
